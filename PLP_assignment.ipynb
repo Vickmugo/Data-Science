{
  "nbformat": 4,
  "nbformat_minor": 0,
  "metadata": {
    "colab": {
      "provenance": [],
      "authorship_tag": "ABX9TyMofnTs82bPbRr3+v/ZyAWe",
      "include_colab_link": true
    },
    "kernelspec": {
      "name": "python3",
      "display_name": "Python 3"
    },
    "language_info": {
      "name": "python"
    }
  },
  "cells": [
    {
      "cell_type": "markdown",
      "metadata": {
        "id": "view-in-github",
        "colab_type": "text"
      },
      "source": [
        "<a href=\"https://colab.research.google.com/github/Vickmugo/Data-Science/blob/main/PLP_assignment.ipynb\" target=\"_parent\"><img src=\"https://colab.research.google.com/assets/colab-badge.svg\" alt=\"Open In Colab\"/></a>"
      ]
    },
    {
      "cell_type": "code",
      "execution_count": 1,
      "metadata": {
        "colab": {
          "base_uri": "https://localhost:8080/"
        },
        "id": "Facqiyk0ETuX",
        "outputId": "e079238e-8566-4777-f9ef-b6a88c665f93"
      },
      "outputs": [
        {
          "output_type": "stream",
          "name": "stdout",
          "text": [
            "Final List: [10, 15, 20, 30, 40, 50, 60]\n",
            "Index of 30: 3\n"
          ]
        }
      ],
      "source": [
        "\n",
        "# Step 1: Create an empty list\n",
        "my_list = []\n",
        "\n",
        "# Step 2: Append elements 10, 20, 30, 40\n",
        "my_list.append(10)\n",
        "my_list.append(20)\n",
        "my_list.append(30)\n",
        "my_list.append(40)\n",
        "\n",
        "# Step 3: Insert 15 at the second position (index 1)\n",
        "my_list.insert(1, 15)\n",
        "\n",
        "# Step 4: Extend my_list with [50, 60, 70]\n",
        "my_list.extend([50, 60, 70])\n",
        "\n",
        "# Step 5: Remove the last element\n",
        "my_list.pop()\n",
        "\n",
        "# Step 6: Sort in ascending order\n",
        "my_list.sort()\n",
        "\n",
        "# Step 7: Find index of value 30\n",
        "index_30 = my_list.index(30)\n",
        "\n",
        "# Print results\n",
        "print(\"Final List:\", my_list)\n",
        "print(\"Index of 30:\", index_30)\n"
      ]
    }
  ]
}